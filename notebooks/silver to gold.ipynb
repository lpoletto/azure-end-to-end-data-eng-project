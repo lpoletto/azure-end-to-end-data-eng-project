{
 "cells": [
  {
   "cell_type": "markdown",
   "metadata": {
    "application/vnd.databricks.v1+cell": {
     "cellMetadata": {},
     "inputWidgets": {},
     "nuid": "6089da99-d190-4df5-945c-1a4cc9b46e39",
     "showTitle": false,
     "tableResultSettingsMap": {},
     "title": ""
    }
   },
   "source": [
    "## Dim_Products"
   ]
  },
  {
   "cell_type": "code",
   "execution_count": 0,
   "metadata": {
    "application/vnd.databricks.v1+cell": {
     "cellMetadata": {
      "byteLimit": 2048000,
      "rowLimit": 10000
     },
     "inputWidgets": {},
     "nuid": "db0bd062-d953-45c3-b43b-6879b14c1d2f",
     "showTitle": false,
     "tableResultSettingsMap": {},
     "title": ""
    }
   },
   "outputs": [],
   "source": [
    "product_path = '/mnt/silver/SalesLT/STG_Products/'\n",
    "output_path = '/mnt/gold/SalesLT/Dim_Products/'\n",
    "\n",
    "dim_product = spark.read.format(\"delta\").load(product_path)\n",
    "dim_product.write.format(\"delta\").mode(\"append\").save(output_path)"
   ]
  },
  {
   "cell_type": "markdown",
   "metadata": {
    "application/vnd.databricks.v1+cell": {
     "cellMetadata": {},
     "inputWidgets": {},
     "nuid": "381371d1-d345-437d-b61c-06a957189832",
     "showTitle": false,
     "tableResultSettingsMap": {},
     "title": ""
    }
   },
   "source": [
    "## Dim_Customers"
   ]
  },
  {
   "cell_type": "code",
   "execution_count": 0,
   "metadata": {
    "application/vnd.databricks.v1+cell": {
     "cellMetadata": {
      "byteLimit": 2048000,
      "rowLimit": 10000
     },
     "inputWidgets": {},
     "nuid": "74f89b0d-88e8-4bdb-8d73-5ac7a298f53c",
     "showTitle": false,
     "tableResultSettingsMap": {},
     "title": ""
    }
   },
   "outputs": [],
   "source": [
    "customers_path = '/mnt/silver/SalesLT/STG_Customers/'\n",
    "output_path = '/mnt/gold/SalesLT/Dim_Customers/'\n",
    "\n",
    "dim_customer = spark.read.format(\"delta\").load(customers_path)\n",
    "dim_customer.write.format(\"delta\").mode(\"append\").save(output_path)"
   ]
  },
  {
   "cell_type": "markdown",
   "metadata": {
    "application/vnd.databricks.v1+cell": {
     "cellMetadata": {},
     "inputWidgets": {},
     "nuid": "0d435fba-8a0d-468e-a7a6-6eaae63ec765",
     "showTitle": false,
     "tableResultSettingsMap": {},
     "title": ""
    }
   },
   "source": [
    "## Fact_Sales = SalesOrderHeader + SalesOrderDetail"
   ]
  },
  {
   "cell_type": "code",
   "execution_count": 0,
   "metadata": {
    "application/vnd.databricks.v1+cell": {
     "cellMetadata": {
      "byteLimit": 2048000,
      "rowLimit": 10000
     },
     "inputWidgets": {},
     "nuid": "944beb6a-bcb6-4b41-8406-426db2fcd2c0",
     "showTitle": false,
     "tableResultSettingsMap": {},
     "title": ""
    }
   },
   "outputs": [],
   "source": [
    "from pyspark.sql.types import StructType, StructField, IntegerType, DateType, FloatType\n",
    "from pyspark.sql import SparkSession\n",
    "from pyspark.sql.functions import col, row_number\n",
    "from pyspark.sql.window import Window\n",
    "\n",
    "\n",
    "path_sales_order_detail = '/mnt/silver/SalesLT/STG_SalesOrderDetail/'\n",
    "path_sales_order_header = '/mnt/silver/SalesLT/STG_SalesOrderHeader/'\n",
    "output_path = '/mnt/gold/SalesLT/Fact_Sales/'\n",
    "\n",
    "sales_order_detail_df = spark.read.format(\"delta\").load(path_sales_order_detail)\n",
    "sales_order_header_df = spark.read.format(\"delta\").load(path_sales_order_header)\n",
    "\n",
    "schema = StructType([\n",
    "    StructField(\"SalesOrderID\", IntegerType(), True),\n",
    "    StructField(\"OrderDate\", DateType(), True),\n",
    "    StructField(\"CustomerID\", IntegerType(), True),\n",
    "    StructField(\"ProductID\", IntegerType(), True),\n",
    "    StructField(\"OrderQty\", IntegerType(), True),\n",
    "    StructField(\"UnitPrice\", FloatType(), True),\n",
    "    StructField(\"LineTotal\", FloatType(), True)\n",
    "])\n",
    "\n",
    "joined_df = sales_order_header_df.alias(\"soh\") \\\n",
    "  .join(\n",
    "    sales_order_detail_df.alias(\"sod\"),\n",
    "    sales_order_header_df[\"SalesOrderID\"] == sales_order_detail_df[\"SalesOrderID\"]\n",
    "  ) \\\n",
    "    .select(\n",
    "      sales_order_header_df[\"SalesOrderID\"].cast(\"int\"),\n",
    "      sales_order_header_df[\"OrderDate\"].cast(\"date\"),\n",
    "      sales_order_header_df[\"CustomerID\"].cast(\"int\"),\n",
    "      sales_order_detail_df[\"ProductID\"].cast(\"int\"),\n",
    "      sales_order_detail_df[\"OrderQty\"].cast(\"int\"),\n",
    "      sales_order_detail_df[\"UnitPrice\"].cast(\"float\"),\n",
    "      sales_order_detail_df[\"LineTotal\"].cast(\"float\")\n",
    "    )\n",
    "\n",
    "empty_df = spark.createDataFrame(data=[], schema=schema)\n",
    "\n",
    "final_df = joined_df.union(empty_df)\n",
    "\n",
    "# Create a windows key incremental\n",
    "window_spec = Window.orderBy(col(\"SalesOrderID\"))\n",
    "\n",
    "# Add col SaleKey incremental\n",
    "final_df_with_key = final_df.withColumn(\n",
    "    \"SaleKey\",\n",
    "    row_number().over(window_spec)\n",
    ")\n",
    "# Resort cols \n",
    "columns = [\"SaleKey\"] + [col for col in final_df_with_key.columns if col != \"SaleKey\"]\n",
    "fact_sales = final_df_with_key.select(columns)\n",
    "\n",
    "fact_sales.write.format(\"delta\").mode(\"append\").save(output_path)"
   ]
  },
  {
   "cell_type": "markdown",
   "metadata": {
    "application/vnd.databricks.v1+cell": {
     "cellMetadata": {},
     "inputWidgets": {},
     "nuid": "89c25130-c42a-4ecb-9ba1-05c96d5f2dfc",
     "showTitle": false,
     "tableResultSettingsMap": {},
     "title": ""
    }
   },
   "source": [
    "## Dim_Date"
   ]
  },
  {
   "cell_type": "code",
   "execution_count": 0,
   "metadata": {
    "application/vnd.databricks.v1+cell": {
     "cellMetadata": {
      "byteLimit": 2048000,
      "rowLimit": 10000
     },
     "inputWidgets": {},
     "nuid": "97f39f13-d7a5-4600-a098-d6cc95b4385c",
     "showTitle": false,
     "tableResultSettingsMap": {},
     "title": ""
    }
   },
   "outputs": [],
   "source": [
    "from pyspark.sql import SparkSession\n",
    "from pyspark.sql.functions import col, lit, date_format, year, month, dayofmonth, dayofweek, weekofyear, quarter, when\n",
    "from pyspark.sql.types import DateType\n",
    "import datetime\n",
    "\n",
    "output_path = '/mnt/gold/SalesLT/Dim_Date/'\n",
    "\n",
    "# Definir el rango de fechas\n",
    "start_date = datetime.date(1900, 1, 1)\n",
    "end_date = datetime.date(2050, 12, 31)\n",
    "\n",
    "# Generar un rango de fechas\n",
    "date_range = [(start_date + datetime.timedelta(days=x)) for x in range((end_date - start_date).days + 1)]\n",
    "\n",
    "# Crear un DataFrame inicial con las fechas\n",
    "df = spark.createDataFrame(date_range, DateType()).toDF(\"date\")\n",
    "\n",
    "# Añadir columnas adicionales para la tabla Dim_Date\n",
    "dim_date = (\n",
    "    df\n",
    "    .withColumn(\"year\", year(col(\"date\")))\n",
    "    .withColumn(\"month\", month(col(\"date\")))\n",
    "    .withColumn(\"day\", dayofmonth(col(\"date\")))\n",
    "    .withColumn(\"day_of_week\", dayofweek(col(\"date\")))  # 1=Domingo, 7=Sábado\n",
    "    .withColumn(\"week_of_year\", weekofyear(col(\"date\")))\n",
    "    .withColumn(\"quarter\", quarter(col(\"date\")))\n",
    "    .withColumn(\"is_weekend\", when(col(\"day_of_week\").isin(1, 7), lit(True)).otherwise(lit(False)))  # True si es sábado o domingo\n",
    "    .withColumn(\"date_key\", date_format(col(\"date\"), \"yyyyMMdd\").cast(\"int\"))  # Llave única en formato AAAAMMDD\n",
    ")\n",
    "\n",
    "# Mostrar un ejemplo de la tabla\n",
    "# dim_date.show(10, truncate=False)\n",
    "\n",
    "# Cantidad de registros en la tabla\n",
    "# print(f\"Total de registros: {dim_date.count()}\")\n",
    "\n",
    "# Save to Delta\n",
    "dim_date.write.format(\"delta\").mode(\"append\").save(output_path)"
   ]
  }
 ],
 "metadata": {
  "application/vnd.databricks.v1+notebook": {
   "dashboards": [],
   "environmentMetadata": {
    "base_environment": "",
    "client": "1"
   },
   "language": "python",
   "notebookMetadata": {
    "pythonIndentUnit": 4
   },
   "notebookName": "silver to gold",
   "widgets": {}
  },
  "language_info": {
   "name": "python"
  }
 },
 "nbformat": 4,
 "nbformat_minor": 0
}